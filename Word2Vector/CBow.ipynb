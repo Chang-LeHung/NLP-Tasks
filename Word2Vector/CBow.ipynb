{
 "cells": [
  {
   "cell_type": "code",
   "execution_count": 1,
   "metadata": {},
   "outputs": [],
   "source": [
    "import torch\n",
    "import re\n",
    "import numpy as np\n",
    "from torch.utils.data import DataLoader, Dataset\n",
    "from torch import nn, optim\n",
    "import seaborn as sns\n",
    "from matplotlib import pyplot as plt \n",
    "import matplotlib as mpl\n",
    "import pandas as pd\n",
    "\n",
    "sns.set()\n",
    "mpl.rcParams['font.sans-serif'] = ['Monaco']\n",
    "mpl.rcParams['axes.unicode_minus']=False \n",
    "mpl.rcParams['figure.dpi'] = 100"
   ]
  },
  {
   "cell_type": "code",
   "execution_count": 2,
   "metadata": {},
   "outputs": [],
   "source": [
    "def data_preprocessing(strings, num_sub=\"NUM\"):\n",
    "    # 数字代替字符\n",
    "    res = [re.sub(\"\\d+\\.?\\d+\", num_sub, string.strip()) for string in strings]\n",
    "    # 将字符变成空格\n",
    "    res = [re.sub(r'[!\\\"#$%&\\(\\)\\*\\+,-\\./:;<=>@\\[\\]\\\\\\?^_`\\{\\}~\\|]', \" \", s) for s in res]\n",
    "    # 将所有句子连接起来\n",
    "    res = \"\".join(res)\n",
    "    # 多个空格变成一个空格\n",
    "    res = re.sub(\" +\", \" \", res).lower()\n",
    "    return res.split(\" \")"
   ]
  },
  {
   "cell_type": "code",
   "execution_count": 3,
   "metadata": {},
   "outputs": [],
   "source": [
    "with open(\"HarryPotter.txt\", \"r+\", encoding=\"utf-8\") as fp:\n",
    "    data = fp.readlines()"
   ]
  },
  {
   "cell_type": "code",
   "execution_count": 4,
   "metadata": {},
   "outputs": [],
   "source": [
    "article = data_preprocessing(data)"
   ]
  },
  {
   "cell_type": "code",
   "execution_count": 5,
   "metadata": {},
   "outputs": [],
   "source": [
    "uniq_words = set(article)\n",
    "vocab_size = len(uniq_words)"
   ]
  },
  {
   "cell_type": "code",
   "execution_count": 6,
   "metadata": {},
   "outputs": [
    {
     "data": {
      "text/plain": [
       "6066"
      ]
     },
     "execution_count": 6,
     "metadata": {},
     "output_type": "execute_result"
    }
   ],
   "source": [
    "vocab_size"
   ]
  },
  {
   "cell_type": "code",
   "execution_count": 7,
   "metadata": {},
   "outputs": [],
   "source": [
    "word2idx = {}\n",
    "idx2word = {}\n",
    "my_mapping = []\n",
    "for idx, word in enumerate(uniq_words):\n",
    "    word2idx[word] = idx\n",
    "    idx2word[idx] = word\n",
    "    my_mapping.append(word)\n",
    "my_mapping = np.array(my_mapping)"
   ]
  },
  {
   "cell_type": "code",
   "execution_count": 8,
   "metadata": {},
   "outputs": [
    {
     "data": {
      "text/plain": [
       "array(['snap', 'tibbles', 'transfixed', ..., \"guardin'\", \"minutes'\",\n",
       "       'stamp'], dtype='<U18')"
      ]
     },
     "execution_count": 8,
     "metadata": {},
     "output_type": "execute_result"
    }
   ],
   "source": [
    "my_mapping"
   ]
  },
  {
   "cell_type": "code",
   "execution_count": 9,
   "metadata": {},
   "outputs": [
    {
     "data": {
      "text/plain": [
       "array(['snap', 'tibbles', 'transfixed', \"guardin'\", \"minutes'\", 'stamp'],\n",
       "      dtype='<U18')"
      ]
     },
     "execution_count": 9,
     "metadata": {},
     "output_type": "execute_result"
    }
   ],
   "source": [
    "my_mapping[[0, 1, 2, -3, -2, -1]]"
   ]
  },
  {
   "cell_type": "code",
   "execution_count": 10,
   "metadata": {},
   "outputs": [],
   "source": [
    "num_article = []\n",
    "for word in article:\n",
    "    num_article.append(word2idx[word])\n",
    "num_article = np.array(num_article)"
   ]
  },
  {
   "cell_type": "code",
   "execution_count": 11,
   "metadata": {},
   "outputs": [
    {
     "data": {
      "text/plain": [
       "array([1517, 5193, 2983, ..., 5792, 3424, 1747])"
      ]
     },
     "execution_count": 11,
     "metadata": {},
     "output_type": "execute_result"
    }
   ],
   "source": [
    "num_article"
   ]
  },
  {
   "cell_type": "code",
   "execution_count": 82,
   "metadata": {},
   "outputs": [],
   "source": [
    "def dataset_extractor(article, left_window=8, right_window=8, num_words_selected=8):\n",
    "    '''\n",
    "    article : 文章对应的数字列表\n",
    "    num_words_selected : 每个中心词需要抽取多少个对应的上下文单词\n",
    "    left_window : 中心词左边带抽取单词的范围\n",
    "    right_window : 中心词右边边带抽取单词的范围\n",
    "    '''\n",
    "    length = len(article)\n",
    "    dataset = []\n",
    "    labels = []\n",
    "    for idx, word_num in enumerate(article[1:-1]):\n",
    "        idx = idx + 1\n",
    "        if idx <= left_window:\n",
    "            temp = np.array([idx - 1, idx + 1])\n",
    "            num_idx = list(np.arange(0, idx - 1)) + list(temp) + list(np.arange(idx + 2, idx + 1 + right_window))\n",
    "        elif length - idx -1 <= right_window:\n",
    "            temp = np.array([idx - 1, idx + 1])\n",
    "            num_idx = list(np.arange(idx - left_window, idx - 1)) + list(temp) + list(np.arange(idx + 2, length))\n",
    "        else:\n",
    "            temp = np.array([idx - 1, idx + 1])\n",
    "            num_idx = list(np.arange(idx - left_window, idx - 1)) + list(temp) + list(np.arange(idx + 2, idx + 1 + right_window))\n",
    "        nums = article[num_idx]\n",
    "        if len(nums) > num_words_selected:\n",
    "            nums = np.random.choice(nums, size=num_words_selected, replace=False)\n",
    "        labels += [article[idx].tolist()]\n",
    "        dataset += nums.tolist()\n",
    "    return labels, dataset"
   ]
  },
  {
   "cell_type": "code",
   "execution_count": 83,
   "metadata": {},
   "outputs": [],
   "source": [
    "labels, dataset = dataset_extractor(article=num_article, left_window=8, right_window=8,\n",
    "                                               num_words_selected=8)"
   ]
  },
  {
   "cell_type": "code",
   "execution_count": 84,
   "metadata": {},
   "outputs": [],
   "source": [
    "dataset = torch.from_numpy(np.array(dataset))\n",
    "labels = torch.from_numpy(np.array(labels))"
   ]
  },
  {
   "cell_type": "code",
   "execution_count": 85,
   "metadata": {},
   "outputs": [],
   "source": [
    "dataset = dataset.reshape(-1, 8)"
   ]
  },
  {
   "cell_type": "code",
   "execution_count": 86,
   "metadata": {},
   "outputs": [
    {
     "data": {
      "text/plain": [
       "tensor([[5698, 2478, 2983,  ..., 3424, 1517, 2912],\n",
       "        [1517, 1090, 5698,  ..., 5191, 3024, 2478],\n",
       "        [3001, 2912, 1090,  ..., 2983, 5191, 2983],\n",
       "        ...,\n",
       "        [5792, 1747, 3424,  ..., 4558, 1035,  483],\n",
       "        [4200, 2695, 3424,  ..., 1035, 3593, 4558],\n",
       "        [1747, 4200, 3593,  ...,  827, 4558,  483]])"
      ]
     },
     "execution_count": 86,
     "metadata": {},
     "output_type": "execute_result"
    }
   ],
   "source": [
    "dataset"
   ]
  },
  {
   "cell_type": "code",
   "execution_count": 87,
   "metadata": {},
   "outputs": [
    {
     "data": {
      "text/plain": [
       "77889"
      ]
     },
     "execution_count": 87,
     "metadata": {},
     "output_type": "execute_result"
    }
   ],
   "source": [
    "len(dataset)"
   ]
  },
  {
   "cell_type": "code",
   "execution_count": 88,
   "metadata": {},
   "outputs": [
    {
     "data": {
      "text/plain": [
       "77889"
      ]
     },
     "execution_count": 88,
     "metadata": {},
     "output_type": "execute_result"
    }
   ],
   "source": [
    "len(labels)"
   ]
  },
  {
   "cell_type": "code",
   "execution_count": 90,
   "metadata": {},
   "outputs": [],
   "source": [
    "class MyDataset(Dataset):\n",
    "    \n",
    "    def __init__(self, data, label):\n",
    "        super(MyDataset, self).__init__()\n",
    "        self.data = data\n",
    "        self.label = label\n",
    "        \n",
    "    def __len__(self):\n",
    "        return len(self.data)\n",
    "    \n",
    "    def __getitem__(self, idx):\n",
    "        return self.data[idx], self.label[idx]"
   ]
  },
  {
   "cell_type": "code",
   "execution_count": 91,
   "metadata": {},
   "outputs": [],
   "source": [
    "dataset = MyDataset(dataset, labels)"
   ]
  },
  {
   "cell_type": "code",
   "execution_count": 93,
   "metadata": {},
   "outputs": [],
   "source": [
    "data_loader = DataLoader(dataset, batch_size=16, shuffle=True, drop_last=True, num_workers=4)"
   ]
  },
  {
   "cell_type": "code",
   "execution_count": 94,
   "metadata": {},
   "outputs": [],
   "source": [
    "loss_ans = pd.DataFrame()"
   ]
  },
  {
   "cell_type": "code",
   "execution_count": 95,
   "metadata": {
    "scrolled": true
   },
   "outputs": [
    {
     "data": {
      "text/plain": [
       "[tensor([[2571, 2052, 1024, 5312, 2141, 3222,  804, 3341],\n",
       "         [ 666, 5103, 4198, 5838, 4200, 2140, 2535, 4257],\n",
       "         [5256, 3163, 2994, 1559, 1559, 2983, 1242, 5740],\n",
       "         [ 177, 1135, 4685, 2442, 2442, 3424, 1529, 5629],\n",
       "         [3119, 1559, 3280,  414, 2596, 5081, 3424, 4744],\n",
       "         [3779, 1773, 5872, 4163, 2354, 1891, 5907, 1517],\n",
       "         [1242, 4293, 2917, 1865, 1985,  718, 3136, 1242],\n",
       "         [3593, 2938, 3261, 1178, 5639, 3424, 1469, 1559],\n",
       "         [2486,  463, 2140, 2714, 5610, 3306, 1666, 1135],\n",
       "         [3593, 3593,  353,  698, 5778, 5922, 2039, 2100],\n",
       "         [4012, 2912, 4283, 5897, 3424, 2758, 3926, 2601],\n",
       "         [5750, 4971, 5871, 4765, 2983,  483, 2776, 2121],\n",
       "         [1909,  290, 4661, 2286, 3981, 2140, 4999, 1909],\n",
       "         [3941, 2983, 4293, 3946, 3424, 4710, 1838, 1517],\n",
       "         [5273, 1024, 5978, 5689, 1019, 5161, 2983, 5733],\n",
       "         [2140,  240, 5138, 3593, 1922, 1570, 1730, 5009]]),\n",
       " tensor([2710, 1243, 1909, 1454, 5689, 1838, 2567, 5922, 4051, 5286, 1242, 4999,\n",
       "         5103, 2661, 4850, 1242])]"
      ]
     },
     "execution_count": 95,
     "metadata": {},
     "output_type": "execute_result"
    }
   ],
   "source": [
    "next(iter(data_loader))"
   ]
  },
  {
   "cell_type": "code",
   "execution_count": 111,
   "metadata": {},
   "outputs": [],
   "source": [
    "class CBOW(nn.Module):\n",
    "    \n",
    "    def __init__(self, embedding_size, vocab_size, squence_length):\n",
    "        \n",
    "        super(CBOW, self).__init__()\n",
    "        self.embedding_size = embedding_size\n",
    "        self.vocab_size = vocab_size\n",
    "        self.squence_length = squence_length\n",
    "        self.embedding = nn.Embedding(vocab_size, embedding_size)\n",
    "        self.linear = nn.Linear(embedding_size * squence_length, vocab_size)\n",
    "        self.logosoftmax = nn.LogSoftmax(dim=1)\n",
    "    \n",
    "    def forward(self, x):\n",
    "        out = self.embedding(x)\n",
    "        out = out.view(-1, self.squence_length * self.embedding_size)\n",
    "        out = self.linear(out)\n",
    "        return self.logosoftmax(out)"
   ]
  },
  {
   "cell_type": "code",
   "execution_count": 112,
   "metadata": {},
   "outputs": [],
   "source": [
    "model = CBOW(256, vocab_size, 8)\n",
    "lr = 8e-4\n",
    "epoch = 40\n",
    "device = torch.device(\"cuda\") if torch.cuda.is_available() else torch.device(\"cpu\")\n",
    "criteiron = nn.NLLLoss()\n",
    "optimizer = optim.Adam(model.parameters(), lr=lr)\n",
    "losses = []"
   ]
  },
  {
   "cell_type": "code",
   "execution_count": 158,
   "metadata": {
    "scrolled": true
   },
   "outputs": [],
   "source": [
    "model = model.to(device)\n",
    "for e in range(epoch):\n",
    "    temp_losses = []\n",
    "    for idx, data in enumerate(data_loader):\n",
    "        data, label = data\n",
    "        data = data.to(device)\n",
    "        label = label.to(device)\n",
    "        out = model(data)\n",
    "        loss = criteiron(out, label)\n",
    "        optimizer.zero_grad()\n",
    "        loss.backward()\n",
    "        optimizer.step()\n",
    "        temp_losses.append(loss.item())\n",
    "        print(f\"Epoch [{e + 1}/{epoch}] Step [{idx + 1}/{len(data_loader)}] loss = {loss.item()}\")\n",
    "    losses.append(np.mean(temp_losses))\n",
    "    sns.lineplot(x = np.arange(len(temp_losses)), y = temp_losses)\n",
    "    plt.show()\n",
    "    plt.pause(0.005)"
   ]
  },
  {
   "cell_type": "code",
   "execution_count": 114,
   "metadata": {},
   "outputs": [
    {
     "data": {
      "text/plain": [
       "Text(0, 0.5, 'loss')"
      ]
     },
     "execution_count": 114,
     "metadata": {},
     "output_type": "execute_result"
    },
    {
     "name": "stderr",
     "output_type": "stream",
     "text": [
      "findfont: Font family ['sans-serif'] not found. Falling back to DejaVu Sans.\n"
     ]
    },
    {
     "data": {
      "image/png": "[encoded data removed]",
      "text/plain": [
       "<Figure size 600x400 with 1 Axes>"
      ]
     },
     "metadata": {},
     "output_type": "display_data"
    }
   ],
   "source": [
    "ax = sns.lineplot(x = range(len(losses)),  y=losses)\n",
    "ax.set_xlabel(\"epoch\")\n",
    "ax.set_ylabel(\"loss\")"
   ]
  },
  {
   "cell_type": "code",
   "execution_count": 115,
   "metadata": {},
   "outputs": [
    {
     "data": {
      "text/plain": [
       "1281"
      ]
     },
     "execution_count": 115,
     "metadata": {},
     "output_type": "execute_result"
    }
   ],
   "source": [
    "word2idx[\"like\"]"
   ]
  },
  {
   "cell_type": "code",
   "execution_count": 116,
   "metadata": {},
   "outputs": [
    {
     "data": {
      "text/plain": [
       "513"
      ]
     },
     "execution_count": 116,
     "metadata": {},
     "output_type": "execute_result"
    }
   ],
   "source": [
    "word2idx[\"love\"]"
   ]
  },
  {
   "cell_type": "code",
   "execution_count": 117,
   "metadata": {},
   "outputs": [
    {
     "data": {
      "text/plain": [
       "tensor([1281])"
      ]
     },
     "execution_count": 117,
     "metadata": {},
     "output_type": "execute_result"
    }
   ],
   "source": [
    "torch.tensor([word2idx[\"like\"]])"
   ]
  },
  {
   "cell_type": "code",
   "execution_count": 118,
   "metadata": {},
   "outputs": [],
   "source": [
    "model = model.cpu()"
   ]
  },
  {
   "cell_type": "code",
   "execution_count": 121,
   "metadata": {},
   "outputs": [],
   "source": [
    "like = model.embedding(torch.tensor([word2idx[\"king\"]]))[0]"
   ]
  },
  {
   "cell_type": "code",
   "execution_count": 122,
   "metadata": {},
   "outputs": [],
   "source": [
    "love = model.embedding(torch.tensor([word2idx[\"queen\"]]))[0]"
   ]
  },
  {
   "cell_type": "code",
   "execution_count": 123,
   "metadata": {},
   "outputs": [],
   "source": [
    "weights = model.embedding.weight.data"
   ]
  },
  {
   "cell_type": "code",
   "execution_count": 124,
   "metadata": {},
   "outputs": [],
   "source": [
    "def cos(x, y, weights):\n",
    "    x = weights[word2idx[x]]\n",
    "    y = weights[word2idx[y]]\n",
    "    ab = torch.dot(x, y)\n",
    "    a = torch.sqrt(torch.sum(x ** 2))\n",
    "    b = torch.sqrt(torch.sum(y ** 2))\n",
    "    return ab / (a * b)"
   ]
  },
  {
   "cell_type": "code",
   "execution_count": 125,
   "metadata": {},
   "outputs": [
    {
     "data": {
      "text/plain": [
       "tensor(0.0294)"
      ]
     },
     "execution_count": 125,
     "metadata": {},
     "output_type": "execute_result"
    }
   ],
   "source": [
    "cos('love', 'like', weights)"
   ]
  },
  {
   "cell_type": "code",
   "execution_count": 126,
   "metadata": {},
   "outputs": [
    {
     "data": {
      "text/plain": [
       "tensor(0.0107)"
      ]
     },
     "execution_count": 126,
     "metadata": {},
     "output_type": "execute_result"
    }
   ],
   "source": [
    "cos('love', 'hate', weights)"
   ]
  },
  {
   "cell_type": "code",
   "execution_count": 127,
   "metadata": {},
   "outputs": [
    {
     "data": {
      "text/plain": [
       "tensor(-0.0239)"
      ]
     },
     "execution_count": 127,
     "metadata": {},
     "output_type": "execute_result"
    }
   ],
   "source": [
    "cos('likes', 'like', weights)"
   ]
  },
  {
   "cell_type": "code",
   "execution_count": 128,
   "metadata": {},
   "outputs": [
    {
     "data": {
      "text/plain": [
       "tensor(-0.0279)"
      ]
     },
     "execution_count": 128,
     "metadata": {},
     "output_type": "execute_result"
    }
   ],
   "source": [
    "cos('king', 'queen', weights)"
   ]
  },
  {
   "cell_type": "code",
   "execution_count": 129,
   "metadata": {},
   "outputs": [
    {
     "data": {
      "text/plain": [
       "tensor(0.1874)"
      ]
     },
     "execution_count": 129,
     "metadata": {},
     "output_type": "execute_result"
    }
   ],
   "source": [
    "cos('man', 'woman', weights)"
   ]
  },
  {
   "cell_type": "code",
   "execution_count": 130,
   "metadata": {},
   "outputs": [
    {
     "data": {
      "text/plain": [
       "tensor(0.0606)"
      ]
     },
     "execution_count": 130,
     "metadata": {},
     "output_type": "execute_result"
    }
   ],
   "source": [
    "cos('man', 'king', weights)"
   ]
  },
  {
   "cell_type": "code",
   "execution_count": 131,
   "metadata": {},
   "outputs": [
    {
     "data": {
      "text/plain": [
       "tensor(0.0250)"
      ]
     },
     "execution_count": 131,
     "metadata": {},
     "output_type": "execute_result"
    }
   ],
   "source": [
    "cos('woman', 'queen', weights)"
   ]
  },
  {
   "cell_type": "code",
   "execution_count": 132,
   "metadata": {},
   "outputs": [
    {
     "data": {
      "text/plain": [
       "tensor(-0.0728)"
      ]
     },
     "execution_count": 132,
     "metadata": {},
     "output_type": "execute_result"
    }
   ],
   "source": [
    "cos('better', 'worse', weights)"
   ]
  },
  {
   "cell_type": "code",
   "execution_count": 133,
   "metadata": {},
   "outputs": [
    {
     "data": {
      "text/plain": [
       "tensor(0.0584)"
      ]
     },
     "execution_count": 133,
     "metadata": {},
     "output_type": "execute_result"
    }
   ],
   "source": [
    "cos('good', 'bad', weights)"
   ]
  },
  {
   "cell_type": "code",
   "execution_count": 134,
   "metadata": {},
   "outputs": [
    {
     "data": {
      "text/plain": [
       "tensor(-0.0218)"
      ]
     },
     "execution_count": 134,
     "metadata": {},
     "output_type": "execute_result"
    }
   ],
   "source": [
    "cos('old', 'new', weights)"
   ]
  },
  {
   "cell_type": "code",
   "execution_count": 135,
   "metadata": {},
   "outputs": [
    {
     "data": {
      "text/plain": [
       "tensor(-0.0016)"
      ]
     },
     "execution_count": 135,
     "metadata": {},
     "output_type": "execute_result"
    }
   ],
   "source": [
    "cos('ron', 'harry', weights)"
   ]
  },
  {
   "cell_type": "code",
   "execution_count": 136,
   "metadata": {},
   "outputs": [
    {
     "data": {
      "text/plain": [
       "tensor(0.0703)"
      ]
     },
     "execution_count": 136,
     "metadata": {},
     "output_type": "execute_result"
    }
   ],
   "source": [
    "cos('dumbledore', 'voldemort', weights)"
   ]
  },
  {
   "cell_type": "code",
   "execution_count": 137,
   "metadata": {},
   "outputs": [
    {
     "data": {
      "text/plain": [
       "tensor(18.5224, grad_fn=<SqrtBackward>)"
      ]
     },
     "execution_count": 137,
     "metadata": {},
     "output_type": "execute_result"
    }
   ],
   "source": [
    "torch.sqrt(torch.sum(like ** 2))"
   ]
  },
  {
   "cell_type": "code",
   "execution_count": 145,
   "metadata": {},
   "outputs": [],
   "source": [
    "def similar_by_word(word, weights, word2idx, idx2word, my_mapping, topk=1):\n",
    "    vc = weights[word2idx[word]]\n",
    "    coses = []\n",
    "    for i, v in enumerate(weights):\n",
    "        if i == word2idx[word]:\n",
    "            continue\n",
    "        coses.append(cos(word, idx2word[i], weights))\n",
    "    coses = torch.Tensor(coses)\n",
    "    return list(zip(torch.topk(coses, topk)[0], my_mapping[torch.topk(coses, topk)[1]]))"
   ]
  },
  {
   "cell_type": "code",
   "execution_count": 146,
   "metadata": {},
   "outputs": [
    {
     "data": {
      "text/plain": [
       "[(tensor(0.2178), 'copy'),\n",
       " (tensor(0.2147), 'wardrobes'),\n",
       " (tensor(0.2000), 'parted'),\n",
       " (tensor(0.1923), 'shooting'),\n",
       " (tensor(0.1847), 'bottom'),\n",
       " (tensor(0.1845), 'poor'),\n",
       " (tensor(0.1838), 'hills'),\n",
       " (tensor(0.1827), 'friar'),\n",
       " (tensor(0.1816), 'raised'),\n",
       " (tensor(0.1808), 'steering')]"
      ]
     },
     "execution_count": 146,
     "metadata": {},
     "output_type": "execute_result"
    }
   ],
   "source": [
    "similar_by_word(\"ron\", weights, word2idx, idx2word, my_mapping, topk=10)"
   ]
  },
  {
   "cell_type": "code",
   "execution_count": 147,
   "metadata": {},
   "outputs": [],
   "source": [
    "def plot_with_labels(low_dim_embs, labels, xlims=None, ylims=None):\n",
    "    for i, label in enumerate(labels):\n",
    "        x, y = low_dim_embs[i,:]\n",
    "        plt.scatter(x, y)\n",
    "        plt.annotate(label,\n",
    "                     xy=(x, y),\n",
    "                     xytext=(5, 2),\n",
    "                     textcoords='offset points',\n",
    "                     ha='right',\n",
    "                     va='bottom')\n",
    "    if xlims:\n",
    "        plt.xlim(*xlims)\n",
    "    if ylims:\n",
    "        plt.ylim(*ylims)\n",
    "    plt.show()"
   ]
  },
  {
   "cell_type": "code",
   "execution_count": 148,
   "metadata": {},
   "outputs": [],
   "source": [
    "def visual(words, weights, word2idx, xlims=None, ylims=None):\n",
    "    tsne = TSNE(perplexity=30, n_components=2, init='pca', n_iter=5000)\n",
    "    idxs = [word2idx[word.lower()] for word in words]\n",
    "    low_dim_embs = tsne.fit_transform(weights[idxs])\n",
    "    labels = [idx2word[i] for i in idxs ]\n",
    "    plot_with_labels(low_dim_embs, labels, xlims, ylims)"
   ]
  },
  {
   "cell_type": "code",
   "execution_count": 149,
   "metadata": {},
   "outputs": [],
   "source": [
    "from sklearn.manifold import TSNE"
   ]
  },
  {
   "cell_type": "code",
   "execution_count": 150,
   "metadata": {},
   "outputs": [
    {
     "data": {
      "text/plain": [
       "torch.Size([6066, 256])"
      ]
     },
     "execution_count": 150,
     "metadata": {},
     "output_type": "execute_result"
    }
   ],
   "source": [
    "weights.shape"
   ]
  },
  {
   "cell_type": "code",
   "execution_count": 151,
   "metadata": {
    "scrolled": true
   },
   "outputs": [
    {
     "data": {
      "text/plain": [
       "torch.Size([4, 256])"
      ]
     },
     "execution_count": 151,
     "metadata": {},
     "output_type": "execute_result"
    }
   ],
   "source": [
    "weights[[word2idx[\"ron\"], word2idx[\"harry\"], word2idx[\"dumbledore\"], word2idx[\"voldemort\"]]].shape"
   ]
  },
  {
   "cell_type": "code",
   "execution_count": 152,
   "metadata": {},
   "outputs": [
    {
     "data": {
      "image/png": "[encoded data removed]",
      "text/plain": [
       "<Figure size 600x400 with 1 Axes>"
      ]
     },
     "metadata": {},
     "output_type": "display_data"
    }
   ],
   "source": [
    "visual([\"king\", \"queen\", \"man\", \"woman\"], weights, word2idx)"
   ]
  },
  {
   "cell_type": "code",
   "execution_count": 153,
   "metadata": {},
   "outputs": [
    {
     "data": {
      "image/png": "[encoded data removed]",
      "text/plain": [
       "<Figure size 600x400 with 1 Axes>"
      ]
     },
     "metadata": {},
     "output_type": "display_data"
    }
   ],
   "source": [
    "visual([\"ron\",\"harry\",\"Hermione\", \"dumbledore\"], weights, word2idx)"
   ]
  },
  {
   "cell_type": "code",
   "execution_count": 154,
   "metadata": {},
   "outputs": [
    {
     "data": {
      "image/png": "[encoded data removed]",
      "text/plain": [
       "<Figure size 600x400 with 1 Axes>"
      ]
     },
     "metadata": {},
     "output_type": "display_data"
    }
   ],
   "source": [
    "visual([\"hate\", \"love\"], weights, word2idx, ylims=[-1, 4])"
   ]
  },
  {
   "cell_type": "code",
   "execution_count": 155,
   "metadata": {},
   "outputs": [
    {
     "data": {
      "image/png": "[encoded data removed]",
      "text/plain": [
       "<Figure size 600x400 with 1 Axes>"
      ]
     },
     "metadata": {},
     "output_type": "display_data"
    }
   ],
   "source": [
    "visual([\"big\", \"small\"], weights, word2idx, ylims=[-1, 2])"
   ]
  },
  {
   "cell_type": "code",
   "execution_count": 156,
   "metadata": {},
   "outputs": [
    {
     "data": {
      "image/png": "[encoded data removed]",
      "text/plain": [
       "<Figure size 600x400 with 1 Axes>"
      ]
     },
     "metadata": {},
     "output_type": "display_data"
    }
   ],
   "source": [
    "visual([\"love\", \"like\"], weights, word2idx, ylims=[-1, 2])"
   ]
  },
  {
   "cell_type": "code",
   "execution_count": 162,
   "metadata": {},
   "outputs": [
    {
     "data": {
      "text/plain": [
       "CBOW(\n",
       "  (embedding): Embedding(6066, 256)\n",
       "  (linear): Linear(in_features=2048, out_features=6066, bias=True)\n",
       "  (logosoftmax): LogSoftmax()\n",
       ")"
      ]
     },
     "execution_count": 162,
     "metadata": {},
     "output_type": "execute_result"
    }
   ],
   "source": [
    "model"
   ]
  },
  {
   "cell_type": "code",
   "execution_count": null,
   "metadata": {},
   "outputs": [],
   "source": []
  }
 ],
 "metadata": {
  "kernelspec": {
   "display_name": "Python 3",
   "language": "python",
   "name": "python3"
  },
  "language_info": {
   "codemirror_mode": {
    "name": "ipython",
    "version": 3
   },
   "file_extension": ".py",
   "mimetype": "text/x-python",
   "name": "python",
   "nbconvert_exporter": "python",
   "pygments_lexer": "ipython3",
   "version": "3.7.3"
  },
  "toc": {
   "base_numbering": 1,
   "nav_menu": {},
   "number_sections": true,
   "sideBar": true,
   "skip_h1_title": false,
   "title_cell": "Table of Contents",
   "title_sidebar": "Contents",
   "toc_cell": false,
   "toc_position": {},
   "toc_section_display": true,
   "toc_window_display": false
  },
  "varInspector": {
   "cols": {
    "lenName": 16,
    "lenType": 16,
    "lenVar": 40
   },
   "kernels_config": {
    "python": {
     "delete_cmd_postfix": "",
     "delete_cmd_prefix": "del ",
     "library": "var_list.py",
     "varRefreshCmd": "print(var_dic_list())"
    },
    "r": {
     "delete_cmd_postfix": ") ",
     "delete_cmd_prefix": "rm(",
     "library": "var_list.r",
     "varRefreshCmd": "cat(var_dic_list()) "
    }
   },
   "types_to_exclude": [
    "module",
    "function",
    "builtin_function_or_method",
    "instance",
    "_Feature"
   ],
   "window_display": false
  }
 },
 "nbformat": 4,
 "nbformat_minor": 4
}
