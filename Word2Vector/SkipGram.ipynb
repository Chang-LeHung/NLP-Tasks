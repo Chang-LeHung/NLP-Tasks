{
 "cells": [
  {
   "cell_type": "code",
   "execution_count": 1,
   "metadata": {},
   "outputs": [],
   "source": [
    "import torch\n",
    "import re\n",
    "import numpy as np\n",
    "from torch.utils.data import DataLoader, Dataset\n",
    "from torch import nn, optim\n",
    "import seaborn as sns\n",
    "from matplotlib import pyplot as plt \n",
    "import matplotlib as mpl\n",
    "import pandas as pd\n",
    "\n",
    "sns.set()\n",
    "mpl.rcParams['font.sans-serif'] = ['Monaco']\n",
    "mpl.rcParams['axes.unicode_minus']=False \n",
    "mpl.rcParams['figure.dpi'] = 100"
   ]
  },
  {
   "cell_type": "code",
   "execution_count": 2,
   "metadata": {},
   "outputs": [],
   "source": [
    "def data_preprocessing(strings, num_sub=\"NUM\"):\n",
    "    # 数字代替字符\n",
    "    res = [re.sub(\"\\d+\\.?\\d+\", num_sub, string.strip()) for string in strings]\n",
    "    # 将字符变成空格\n",
    "    res = [re.sub(r'[!\\\"#$%&\\(\\)\\*\\+,-\\./:;<=>@\\[\\]\\\\\\?^_`\\{\\}~\\|]', \" \", s) for s in res]\n",
    "    # 将所有句子连接起来\n",
    "    res = \"\".join(res)\n",
    "    # 多个空格变成一个空格\n",
    "    res = re.sub(\" +\", \" \", res).lower()\n",
    "    return res.split(\" \")"
   ]
  },
  {
   "cell_type": "code",
   "execution_count": 3,
   "metadata": {},
   "outputs": [],
   "source": [
    "with open(\"HarryPotter.txt\", \"r+\", encoding=\"utf-8\") as fp:\n",
    "    data = fp.readlines()"
   ]
  },
  {
   "cell_type": "code",
   "execution_count": 4,
   "metadata": {},
   "outputs": [],
   "source": [
    "article = data_preprocessing(data)"
   ]
  },
  {
   "cell_type": "code",
   "execution_count": 5,
   "metadata": {},
   "outputs": [],
   "source": [
    "uniq_words = set(article)\n",
    "vocab_size = len(uniq_words)"
   ]
  },
  {
   "cell_type": "code",
   "execution_count": 6,
   "metadata": {},
   "outputs": [
    {
     "data": {
      "text/plain": [
       "6066"
      ]
     },
     "execution_count": 6,
     "metadata": {},
     "output_type": "execute_result"
    }
   ],
   "source": [
    "vocab_size"
   ]
  },
  {
   "cell_type": "code",
   "execution_count": 7,
   "metadata": {},
   "outputs": [],
   "source": [
    "word2idx = {}\n",
    "idx2word = {}\n",
    "my_mapping = []\n",
    "for idx, word in enumerate(uniq_words):\n",
    "    word2idx[word] = idx\n",
    "    idx2word[idx] = word\n",
    "    my_mapping.append(word)\n",
    "my_mapping = np.array(my_mapping)"
   ]
  },
  {
   "cell_type": "code",
   "execution_count": 8,
   "metadata": {},
   "outputs": [
    {
     "data": {
      "text/plain": [
       "array(['step', 'serpent', 'talk', ..., 'aaaargh', 'embers', 'truthful'],\n",
       "      dtype='<U18')"
      ]
     },
     "execution_count": 8,
     "metadata": {},
     "output_type": "execute_result"
    }
   ],
   "source": [
    "my_mapping"
   ]
  },
  {
   "cell_type": "code",
   "execution_count": 9,
   "metadata": {},
   "outputs": [
    {
     "data": {
      "text/plain": [
       "array(['step', 'serpent', 'talk', 'aaaargh', 'embers', 'truthful'],\n",
       "      dtype='<U18')"
      ]
     },
     "execution_count": 9,
     "metadata": {},
     "output_type": "execute_result"
    }
   ],
   "source": [
    "my_mapping[[0, 1, 2, -3, -2, -1]]"
   ]
  },
  {
   "cell_type": "code",
   "execution_count": 10,
   "metadata": {},
   "outputs": [],
   "source": [
    "num_article = []\n",
    "for word in article:\n",
    "    num_article.append(word2idx[word])\n",
    "num_article = np.array(num_article)"
   ]
  },
  {
   "cell_type": "code",
   "execution_count": 11,
   "metadata": {},
   "outputs": [
    {
     "data": {
      "text/plain": [
       "array([5851,  805, 5045, ..., 5315, 3098, 5588])"
      ]
     },
     "execution_count": 11,
     "metadata": {},
     "output_type": "execute_result"
    }
   ],
   "source": [
    "num_article"
   ]
  },
  {
   "cell_type": "code",
   "execution_count": 12,
   "metadata": {},
   "outputs": [],
   "source": [
    "def dataset_extractor(article, left_window=8, right_window=8, num_words_selected=8):\n",
    "    '''\n",
    "    article : 文章对应的数字列表\n",
    "    num_words_selected : 每个中心词需要抽取多少个对应的上下文单词\n",
    "    left_window : 中心词左边带抽取单词的范围\n",
    "    right_window : 中心词右边边带抽取单词的范围\n",
    "    '''\n",
    "    length = len(article)\n",
    "    dataset = []\n",
    "    labels = []\n",
    "    for idx, word_num in enumerate(article[1:-1]):\n",
    "        idx = idx + 1\n",
    "        if idx <= left_window:\n",
    "            temp = np.array([idx - 1, idx + 1])\n",
    "            num_idx = list(np.arange(0, idx - 1)) + list(temp) + list(np.arange(idx + 2, idx + 1 + right_window))\n",
    "        elif length - idx -1 <= right_window:\n",
    "            temp = np.array([idx - 1, idx + 1])\n",
    "            num_idx = list(np.arange(idx - left_window, idx - 1)) + list(temp) + list(np.arange(idx + 2, length))\n",
    "        else:\n",
    "            temp = np.array([idx - 1, idx + 1])\n",
    "            num_idx = list(np.arange(idx - left_window, idx - 1)) + list(temp) + list(np.arange(idx + 2, idx + 1 + right_window))\n",
    "        nums = article[num_idx]\n",
    "        if len(nums) > num_words_selected:\n",
    "            nums = np.random.choice(nums, size=num_words_selected, replace=False)\n",
    "        dataset += [article[idx].tolist()] * len(nums)\n",
    "        labels += nums.tolist()\n",
    "    return dataset, labels"
   ]
  },
  {
   "cell_type": "code",
   "execution_count": 13,
   "metadata": {},
   "outputs": [],
   "source": [
    "dataset, labels = dataset_extractor(article=num_article, left_window=8, right_window=8,\n",
    "                                               num_words_selected=12)"
   ]
  },
  {
   "cell_type": "code",
   "execution_count": 14,
   "metadata": {},
   "outputs": [],
   "source": [
    "dataset = torch.from_numpy(np.array(dataset))\n",
    "labels = torch.from_numpy(np.array(labels))"
   ]
  },
  {
   "cell_type": "code",
   "execution_count": 15,
   "metadata": {},
   "outputs": [
    {
     "data": {
      "text/plain": [
       "tensor([ 805,  805,  805,  ..., 3098, 3098, 3098])"
      ]
     },
     "execution_count": 15,
     "metadata": {},
     "output_type": "execute_result"
    }
   ],
   "source": [
    "dataset"
   ]
  },
  {
   "cell_type": "code",
   "execution_count": 16,
   "metadata": {},
   "outputs": [],
   "source": [
    "class MyDataset(Dataset):\n",
    "    \n",
    "    def __init__(self, data, label):\n",
    "        super(MyDataset, self).__init__()\n",
    "        self.data = data\n",
    "        self.label = label\n",
    "        \n",
    "    def __len__(self):\n",
    "        return len(self.data)\n",
    "    \n",
    "    def __getitem__(self, idx):\n",
    "        return self.data[idx], self.label[idx]"
   ]
  },
  {
   "cell_type": "code",
   "execution_count": 17,
   "metadata": {},
   "outputs": [],
   "source": [
    "dataset = MyDataset(dataset, labels)"
   ]
  },
  {
   "cell_type": "code",
   "execution_count": 18,
   "metadata": {},
   "outputs": [],
   "source": [
    "data_loader = DataLoader(dataset, batch_size=256, shuffle=True, drop_last=True, num_workers=4)"
   ]
  },
  {
   "cell_type": "code",
   "execution_count": 19,
   "metadata": {},
   "outputs": [],
   "source": [
    "loss_ans = pd.DataFrame()"
   ]
  },
  {
   "cell_type": "code",
   "execution_count": 20,
   "metadata": {
    "scrolled": true
   },
   "outputs": [
    {
     "data": {
      "text/plain": [
       "[tensor([4444, 5203, 3098, 3915, 2265, 3447, 1593, 2092, 1458, 5985,  667, 2319,\n",
       "         3896, 5851,  711, 3098, 3991, 5881, 2917, 4736, 2611, 5687, 1439, 4138,\n",
       "         4158, 3521,  818, 3287,  667, 2174, 5516, 2253,  993, 2686, 3098, 3956,\n",
       "         5074, 1880, 5295, 3098, 2077, 3098, 3992, 3098, 2192, 5999, 1309, 2254,\n",
       "         2918, 5634, 1618, 3098, 5296, 1267, 3251, 5019, 1435, 4898, 2918, 5266,\n",
       "         1794,   94, 3292, 4589, 2825, 4226,  818, 2918,  540,  456, 1565, 2015,\n",
       "         2253, 2652, 4090, 5776, 5091, 2611,  179,  335, 3422, 1951, 3721, 1439,\n",
       "         2895, 5019,  129,  112, 4090, 3098, 3098, 1138, 5867, 1880, 1457, 2611,\n",
       "          499, 5176,  818,  818, 4516,  805, 3721, 2253, 5606,  155, 1666, 2175,\n",
       "         2360,  587, 4881, 4885,  751, 4898, 2092, 3098, 5776, 5931, 1457, 3098,\n",
       "         4897, 3098, 2436, 2675, 5945, 1860, 4317, 2937, 5572,  588, 5606, 3509,\n",
       "         5444, 5649, 5091,  818, 2436, 5572, 3098, 5789, 2691, 3098,  181, 4901,\n",
       "         4741,  456, 2673,  700, 1585, 2937, 4870,  818, 5907,  588, 4138, 4138,\n",
       "         5793, 2302, 3607, 5606, 4871, 5022, 5851, 4622,  871, 2918, 2662, 5281,\n",
       "         4709, 4662, 1054, 4302, 2067, 3098, 5793, 5045, 4138, 5629, 3472, 4882,\n",
       "         2092,  927, 3098, 2841, 4852, 4870, 2350, 2918, 1409, 1695, 2825, 5999,\n",
       "         2785,  393, 5851, 3588, 2539, 2918, 5997, 4682, 3199,  392, 1854, 2316,\n",
       "         2918, 4226, 2405, 3648, 4325, 3276,  179, 2805, 4325, 2918, 5479, 5091,\n",
       "         4064, 2427, 3412, 2253, 2128, 5296, 2967,  321, 2418, 5045,  649, 4064,\n",
       "         2461, 2611, 1951,  456, 5606,  583, 4064,  392,  845, 2092, 3260, 5022,\n",
       "         4823, 4325, 4136, 2453, 5968, 2092, 4962, 3098, 5943, 3447, 5851, 5851,\n",
       "          545, 2092, 5985, 5652]),\n",
       " tensor([4653, 3479,  805, 4782, 5045, 3098,  488,  821, 4278, 4075, 1860, 5665,\n",
       "         3098, 1854, 5999, 3915,  456, 4507,  456, 3887, 3312,  559, 5652, 4064,\n",
       "         5156, 4736, 3588, 5572,  534,  910,  477,  129, 3237, 1333,  796, 3811,\n",
       "         5176, 3138,  661, 4262, 3098,  818, 2918, 2918, 1508,  138,  545, 4226,\n",
       "         4064, 2732, 2067, 4226, 3898, 5999, 2918,  386, 5972, 2895, 1501, 2253,\n",
       "          619, 5111,  751, 4676, 4778, 1672,  818, 4138, 3294, 3098, 2918, 3496,\n",
       "         1342, 2517,  456,  456, 2549,  916, 2918, 2691, 5793, 1929, 4493, 2412,\n",
       "         2253,  302, 5045, 1050, 5496, 3932,  179, 3460, 3588, 5572, 5012, 3199,\n",
       "         4397, 1212, 2655,  144,  138, 3494, 3098, 2918, 5565, 1535, 5091,  565,\n",
       "         1695, 5418, 3439,   94, 5045,  321, 5652, 5916,  676, 2615,  603, 2611,\n",
       "          456, 3473, 5851, 5045, 1377, 2917, 2918,  321, 2551, 4457, 5606, 5045,\n",
       "         4898, 5648, 1409,  545, 1646, 2895, 2537, 2092, 1951, 3350, 5801, 2611,\n",
       "         3821, 3881, 2524, 5446, 3127, 1027, 3991, 5156, 3098, 2113, 2918, 5648,\n",
       "         3422,  871, 3435, 2162, 5045,  283, 2021, 2918, 2174, 5764, 3567,   34,\n",
       "         5999, 3098, 1585, 1794, 3098, 5629, 1894, 4882, 3606, 4887, 6043, 4457,\n",
       "         1218, 2752, 2142, 3779, 2427,   28, 5391, 2898, 4898, 3192, 3623,  818,\n",
       "         1928, 3588, 4183, 3098, 4325, 2578, 3098, 1998, 3721, 2351, 5572, 3422,\n",
       "         4325, 4064,  589, 6039,  941, 4238, 5999, 1359,   28, 5091, 1631, 3098,\n",
       "         5652, 5094, 4395,  110, 5028, 3310, 5896, 5446,  871, 4531, 3098, 4170,\n",
       "          818, 2302, 1951, 5999, 3572,  588, 1794, 3473, 5572, 4882, 5793,  818,\n",
       "         4226, 2092, 1171, 4747, 3519, 3919,   87,  816, 5565, 5999, 3098, 2090,\n",
       "         2918,  954, 3777, 3501])]"
      ]
     },
     "execution_count": 20,
     "metadata": {},
     "output_type": "execute_result"
    }
   ],
   "source": [
    "next(iter(data_loader))"
   ]
  },
  {
   "cell_type": "code",
   "execution_count": 21,
   "metadata": {},
   "outputs": [],
   "source": [
    "class SkipGram(nn.Module):\n",
    "    \n",
    "    def __init__(self, embedding_size, vocab_size):\n",
    "        \n",
    "        super(SkipGram, self).__init__()\n",
    "        self.embedding_size = embedding_size\n",
    "        self.vocab_size = vocab_size\n",
    "        self.skip_gram = nn.Sequential(\n",
    "            nn.Embedding(vocab_size, embedding_size),\n",
    "            nn.Linear(embedding_size, vocab_size),\n",
    "            nn.LogSoftmax(dim=1),\n",
    "        )\n",
    "    \n",
    "    def forward(self, x):\n",
    "        \n",
    "        return self.skip_gram(x)"
   ]
  },
  {
   "cell_type": "code",
   "execution_count": 26,
   "metadata": {},
   "outputs": [],
   "source": [
    "model = SkipGram(256, vocab_size)\n",
    "lr = 8e-4\n",
    "epoch = 100\n",
    "device = torch.device(\"cuda\") if torch.cuda.is_available() else torch.device(\"cpu\")\n",
    "criteiron = nn.NLLLoss()\n",
    "optimizer = optim.Adam(model.parameters(), lr=lr)\n",
    "losses = []"
   ]
  },
  {
   "cell_type": "code",
   "execution_count": 1,
   "metadata": {
    "scrolled": true
   },
   "outputs": [],
   "source": [
    "model = model.to(device)\n",
    "for e in range(epoch):\n",
    "    temp = 0\n",
    "    temp_losses = []\n",
    "    for idx, data in enumerate(data_loader):\n",
    "        data, label = data\n",
    "        data = data.to(device)\n",
    "        label = label.to(device)\n",
    "        out = model(data)\n",
    "        loss = criteiron(out, label)\n",
    "        optimizer.zero_grad()\n",
    "        loss.backward()\n",
    "        optimizer.step()\n",
    "        temp += loss.item()\n",
    "        temp /= 2\n",
    "        temp_losses.append(loss.item())\n",
    "        print(f\"Epoch [{e + 1}/{epoch}] Step [{idx + 1}/{len(data_loader)}] loss = {loss.item()}\")\n",
    "    losses.append(temp)\n",
    "    sns.lineplot(x = np.arange(len(temp_losses)), y = temp_losses)\n",
    "    plt.show()\n",
    "    plt.pause(0.005)"
   ]
  },
  {
   "cell_type": "code",
   "execution_count": 29,
   "metadata": {},
   "outputs": [
    {
     "data": {
      "text/plain": [
       "Text(0, 0.5, 'loss')"
      ]
     },
     "execution_count": 29,
     "metadata": {},
     "output_type": "execute_result"
    },
    {
     "data": {
      "image/png": "[encoded data removed]",
      "text/plain": [
       "<Figure size 600x400 with 1 Axes>"
      ]
     },
     "metadata": {},
     "output_type": "display_data"
    }
   ],
   "source": [
    "ax = sns.lineplot(x = range(len(losses)),  y=losses)\n",
    "ax.set_xlabel(\"epoch\")\n",
    "ax.set_ylabel(\"loss\")"
   ]
  },
  {
   "cell_type": "code",
   "execution_count": 30,
   "metadata": {},
   "outputs": [
    {
     "data": {
      "text/plain": [
       "5179"
      ]
     },
     "execution_count": 30,
     "metadata": {},
     "output_type": "execute_result"
    }
   ],
   "source": [
    "word2idx[\"like\"]"
   ]
  },
  {
   "cell_type": "code",
   "execution_count": 31,
   "metadata": {},
   "outputs": [
    {
     "data": {
      "text/plain": [
       "3016"
      ]
     },
     "execution_count": 31,
     "metadata": {},
     "output_type": "execute_result"
    }
   ],
   "source": [
    "word2idx[\"love\"]"
   ]
  },
  {
   "cell_type": "code",
   "execution_count": 32,
   "metadata": {},
   "outputs": [
    {
     "data": {
      "text/plain": [
       "tensor([5179])"
      ]
     },
     "execution_count": 32,
     "metadata": {},
     "output_type": "execute_result"
    }
   ],
   "source": [
    "torch.tensor([word2idx[\"like\"]])"
   ]
  },
  {
   "cell_type": "code",
   "execution_count": 33,
   "metadata": {},
   "outputs": [],
   "source": [
    "model = model.cpu()"
   ]
  },
  {
   "cell_type": "code",
   "execution_count": 34,
   "metadata": {},
   "outputs": [],
   "source": [
    "like = model.skip_gram[0](torch.tensor([word2idx[\"king\"]]))[0]"
   ]
  },
  {
   "cell_type": "code",
   "execution_count": 35,
   "metadata": {},
   "outputs": [],
   "source": [
    "love = model.skip_gram[0](torch.tensor([word2idx[\"queen\"]]))[0]"
   ]
  },
  {
   "cell_type": "code",
   "execution_count": 36,
   "metadata": {},
   "outputs": [],
   "source": [
    "weights = model.skip_gram[0].weight.data"
   ]
  },
  {
   "cell_type": "code",
   "execution_count": 37,
   "metadata": {},
   "outputs": [],
   "source": [
    "def cos(x, y, weights):\n",
    "    x = weights[word2idx[x]]\n",
    "    y = weights[word2idx[y]]\n",
    "    ab = torch.dot(x, y)\n",
    "    a = torch.sqrt(torch.sum(x ** 2))\n",
    "    b = torch.sqrt(torch.sum(y ** 2))\n",
    "    return ab / (a * b)"
   ]
  },
  {
   "cell_type": "code",
   "execution_count": 71,
   "metadata": {},
   "outputs": [
    {
     "data": {
      "text/plain": [
       "tensor(0.0826)"
      ]
     },
     "execution_count": 71,
     "metadata": {},
     "output_type": "execute_result"
    }
   ],
   "source": [
    "cos('love', 'like', weights)"
   ]
  },
  {
   "cell_type": "code",
   "execution_count": 74,
   "metadata": {},
   "outputs": [
    {
     "data": {
      "text/plain": [
       "tensor(0.1194)"
      ]
     },
     "execution_count": 74,
     "metadata": {},
     "output_type": "execute_result"
    }
   ],
   "source": [
    "cos('love', 'hate', weights)"
   ]
  },
  {
   "cell_type": "code",
   "execution_count": 73,
   "metadata": {},
   "outputs": [
    {
     "data": {
      "text/plain": [
       "tensor(0.0885)"
      ]
     },
     "execution_count": 73,
     "metadata": {},
     "output_type": "execute_result"
    }
   ],
   "source": [
    "cos('likes', 'like', weights)"
   ]
  },
  {
   "cell_type": "code",
   "execution_count": 38,
   "metadata": {},
   "outputs": [
    {
     "data": {
      "text/plain": [
       "tensor(0.2107)"
      ]
     },
     "execution_count": 38,
     "metadata": {},
     "output_type": "execute_result"
    }
   ],
   "source": [
    "cos('king', 'queen', weights)"
   ]
  },
  {
   "cell_type": "code",
   "execution_count": 39,
   "metadata": {},
   "outputs": [
    {
     "data": {
      "text/plain": [
       "tensor(0.1082)"
      ]
     },
     "execution_count": 39,
     "metadata": {},
     "output_type": "execute_result"
    }
   ],
   "source": [
    "cos('man', 'woman', weights)"
   ]
  },
  {
   "cell_type": "code",
   "execution_count": 40,
   "metadata": {},
   "outputs": [
    {
     "data": {
      "text/plain": [
       "tensor(0.0548)"
      ]
     },
     "execution_count": 40,
     "metadata": {},
     "output_type": "execute_result"
    }
   ],
   "source": [
    "cos('man', 'king', weights)"
   ]
  },
  {
   "cell_type": "code",
   "execution_count": 41,
   "metadata": {},
   "outputs": [
    {
     "data": {
      "text/plain": [
       "tensor(0.1306)"
      ]
     },
     "execution_count": 41,
     "metadata": {},
     "output_type": "execute_result"
    }
   ],
   "source": [
    "cos('woman', 'queen', weights)"
   ]
  },
  {
   "cell_type": "code",
   "execution_count": 42,
   "metadata": {},
   "outputs": [
    {
     "data": {
      "text/plain": [
       "tensor(0.1189)"
      ]
     },
     "execution_count": 42,
     "metadata": {},
     "output_type": "execute_result"
    }
   ],
   "source": [
    "cos('better', 'worse', weights)"
   ]
  },
  {
   "cell_type": "code",
   "execution_count": 43,
   "metadata": {},
   "outputs": [
    {
     "data": {
      "text/plain": [
       "tensor(0.1821)"
      ]
     },
     "execution_count": 43,
     "metadata": {},
     "output_type": "execute_result"
    }
   ],
   "source": [
    "cos('good', 'bad', weights)"
   ]
  },
  {
   "cell_type": "code",
   "execution_count": 44,
   "metadata": {},
   "outputs": [
    {
     "data": {
      "text/plain": [
       "tensor(0.1110)"
      ]
     },
     "execution_count": 44,
     "metadata": {},
     "output_type": "execute_result"
    }
   ],
   "source": [
    "cos('old', 'new', weights)"
   ]
  },
  {
   "cell_type": "code",
   "execution_count": 45,
   "metadata": {},
   "outputs": [
    {
     "data": {
      "text/plain": [
       "tensor(0.2127)"
      ]
     },
     "execution_count": 45,
     "metadata": {},
     "output_type": "execute_result"
    }
   ],
   "source": [
    "cos('ron', 'harry', weights)"
   ]
  },
  {
   "cell_type": "code",
   "execution_count": 46,
   "metadata": {},
   "outputs": [
    {
     "data": {
      "text/plain": [
       "tensor(0.0890)"
      ]
     },
     "execution_count": 46,
     "metadata": {},
     "output_type": "execute_result"
    }
   ],
   "source": [
    "cos('dumbledore', 'voldemort', weights)"
   ]
  },
  {
   "cell_type": "code",
   "execution_count": 47,
   "metadata": {},
   "outputs": [
    {
     "data": {
      "text/plain": [
       "tensor(17.9232, grad_fn=<SqrtBackward>)"
      ]
     },
     "execution_count": 47,
     "metadata": {},
     "output_type": "execute_result"
    }
   ],
   "source": [
    "torch.sqrt(torch.sum(like ** 2))"
   ]
  },
  {
   "cell_type": "code",
   "execution_count": 48,
   "metadata": {},
   "outputs": [],
   "source": [
    "def closest_words(model, word, word2idx, my_mapping, topk=4):\n",
    "    out = model(torch.tensor([word2idx[word.lower()]]))\n",
    "    index = torch.topk(out, topk, dim=-1)[1]\n",
    "    return my_mapping[index]"
   ]
  },
  {
   "cell_type": "code",
   "execution_count": 49,
   "metadata": {},
   "outputs": [],
   "source": [
    "out = model(torch.tensor([word2idx[\"ron\"]]))"
   ]
  },
  {
   "cell_type": "code",
   "execution_count": 50,
   "metadata": {},
   "outputs": [],
   "source": [
    "index = torch.topk(out, 1, dim=-1)[1]"
   ]
  },
  {
   "cell_type": "code",
   "execution_count": 51,
   "metadata": {},
   "outputs": [
    {
     "data": {
      "text/plain": [
       "'the'"
      ]
     },
     "execution_count": 51,
     "metadata": {},
     "output_type": "execute_result"
    }
   ],
   "source": [
    "my_mapping[index]"
   ]
  },
  {
   "cell_type": "code",
   "execution_count": 52,
   "metadata": {},
   "outputs": [
    {
     "data": {
      "text/plain": [
       "array([['the', 'to', 'said', 'was', 'and', 'his', 'harry', 'professor',\n",
       "        'it', 'i', 'he', 'a', 'you', 'of', 'him']], dtype='<U18')"
      ]
     },
     "execution_count": 52,
     "metadata": {},
     "output_type": "execute_result"
    }
   ],
   "source": [
    "closest_words(model, \"Dumbledore\", word2idx, my_mapping, 15)"
   ]
  },
  {
   "cell_type": "code",
   "execution_count": 53,
   "metadata": {},
   "outputs": [
    {
     "data": {
      "text/plain": [
       "array([['the', 'to', 'and', 'a', 'he', 'said', 'was', 'it', 'his', 'of',\n",
       "        'you', 'in', 'had', 'that', 'at']], dtype='<U18')"
      ]
     },
     "execution_count": 53,
     "metadata": {},
     "output_type": "execute_result"
    }
   ],
   "source": [
    "closest_words(model, \"harry\", word2idx, my_mapping, 15)"
   ]
  },
  {
   "cell_type": "code",
   "execution_count": 54,
   "metadata": {},
   "outputs": [
    {
     "data": {
      "text/plain": [
       "array([['the', 'and', 'harry', 'to', 'said', 'his', 'you', 'a',\n",
       "        'hermione', 'it', 'was', 'of', 'at', 'had', 'he']], dtype='<U18')"
      ]
     },
     "execution_count": 54,
     "metadata": {},
     "output_type": "execute_result"
    }
   ],
   "source": [
    "closest_words(model, \"ron\", word2idx, my_mapping, 15)"
   ]
  },
  {
   "cell_type": "code",
   "execution_count": 55,
   "metadata": {},
   "outputs": [
    {
     "data": {
      "text/plain": [
       "array([['the', 'to', 'and', 'harry', 'ron', 'said', 'was', 'it', 'a',\n",
       "        'you', 'had', 'of', 'on', 'in', 'up']], dtype='<U18')"
      ]
     },
     "execution_count": 55,
     "metadata": {},
     "output_type": "execute_result"
    }
   ],
   "source": [
    "closest_words(model, \"hermione\", word2idx, my_mapping, 15)"
   ]
  },
  {
   "cell_type": "code",
   "execution_count": 56,
   "metadata": {},
   "outputs": [
    {
     "data": {
      "text/plain": [
       "array([['flatter', 'the', 'harry', 'he', 'to', 'and', 'was', 'it', 'you',\n",
       "        'is', 'seize', 'could', 'i', 'his', 'stone']], dtype='<U18')"
      ]
     },
     "execution_count": 56,
     "metadata": {},
     "output_type": "execute_result"
    }
   ],
   "source": [
    "closest_words(model, \"voldemort\", word2idx, my_mapping, 15)"
   ]
  },
  {
   "cell_type": "code",
   "execution_count": 57,
   "metadata": {},
   "outputs": [],
   "source": [
    "def similar_by_word(word, weights, word2idx, idx2word, my_mapping, topk=1):\n",
    "    vc = weights[word2idx[word]]\n",
    "    coses = []\n",
    "    for i, v in enumerate(weights):\n",
    "        if i == word2idx[word]:\n",
    "            continue\n",
    "        coses.append(cos(word, idx2word[i], weights))\n",
    "    coses = torch.Tensor(coses)\n",
    "    return list(zip(torch.topk(coses, topk)[0], my_mapping[torch.topk(coses, topk)[1]]))"
   ]
  },
  {
   "cell_type": "code",
   "execution_count": 58,
   "metadata": {},
   "outputs": [
    {
     "data": {
      "text/plain": [
       "[(tensor(0.3109), \"hermione'll\"),\n",
       " (tensor(0.3080), 'vacationing'),\n",
       " (tensor(0.2863), 'granger'),\n",
       " (tensor(0.2850), 'impressively'),\n",
       " (tensor(0.2840), 'pass'),\n",
       " (tensor(0.2791), 'aunt'),\n",
       " (tensor(0.2773), 'testing'),\n",
       " (tensor(0.2704), 'erm'),\n",
       " (tensor(0.2684), 'difference'),\n",
       " (tensor(0.2557), 'slightest')]"
      ]
     },
     "execution_count": 58,
     "metadata": {},
     "output_type": "execute_result"
    }
   ],
   "source": [
    "similar_by_word(\"hermione\", weights, word2idx, idx2word, my_mapping, topk=10)"
   ]
  },
  {
   "cell_type": "code",
   "execution_count": 59,
   "metadata": {},
   "outputs": [],
   "source": [
    "def plot_with_labels(low_dim_embs, labels, xlims=None, ylims=None):\n",
    "    for i, label in enumerate(labels):\n",
    "        x, y = low_dim_embs[i,:]\n",
    "        plt.scatter(x, y)\n",
    "        plt.annotate(label,\n",
    "                     xy=(x, y),\n",
    "                     xytext=(5, 2),\n",
    "                     textcoords='offset points',\n",
    "                     ha='right',\n",
    "                     va='bottom')\n",
    "    if xlims:\n",
    "        plt.xlim(*xlims)\n",
    "    if ylims:\n",
    "        plt.ylim(*ylims)\n",
    "    plt.show()"
   ]
  },
  {
   "cell_type": "code",
   "execution_count": 60,
   "metadata": {},
   "outputs": [],
   "source": [
    "def visual(words, weights, word2idx, xlims=None, ylims=None):\n",
    "    tsne = TSNE(perplexity=30, n_components=2, init='pca', n_iter=5000)\n",
    "    idxs = [word2idx[word.lower()] for word in words]\n",
    "    low_dim_embs = tsne.fit_transform(weights[idxs])\n",
    "    labels = [idx2word[i] for i in idxs ]\n",
    "    plot_with_labels(low_dim_embs, labels, xlims, ylims)"
   ]
  },
  {
   "cell_type": "code",
   "execution_count": 61,
   "metadata": {},
   "outputs": [],
   "source": [
    "from sklearn.manifold import TSNE"
   ]
  },
  {
   "cell_type": "code",
   "execution_count": 62,
   "metadata": {},
   "outputs": [
    {
     "data": {
      "text/plain": [
       "torch.Size([6066, 256])"
      ]
     },
     "execution_count": 62,
     "metadata": {},
     "output_type": "execute_result"
    }
   ],
   "source": [
    "weights.shape"
   ]
  },
  {
   "cell_type": "code",
   "execution_count": 63,
   "metadata": {
    "scrolled": true
   },
   "outputs": [
    {
     "data": {
      "text/plain": [
       "torch.Size([4, 256])"
      ]
     },
     "execution_count": 63,
     "metadata": {},
     "output_type": "execute_result"
    }
   ],
   "source": [
    "weights[[word2idx[\"ron\"], word2idx[\"harry\"], word2idx[\"dumbledore\"], word2idx[\"voldemort\"]]].shape"
   ]
  },
  {
   "cell_type": "code",
   "execution_count": 64,
   "metadata": {},
   "outputs": [
    {
     "data": {
      "image/png": "[encoded data removed]",
      "text/plain": [
       "<Figure size 600x400 with 1 Axes>"
      ]
     },
     "metadata": {},
     "output_type": "display_data"
    }
   ],
   "source": [
    "visual([\"king\", \"queen\", \"man\", \"woman\"], weights, word2idx)"
   ]
  },
  {
   "cell_type": "code",
   "execution_count": 65,
   "metadata": {},
   "outputs": [
    {
     "data": {
      "image/png": "[encoded data removed]",
      "text/plain": [
       "<Figure size 600x400 with 1 Axes>"
      ]
     },
     "metadata": {},
     "output_type": "display_data"
    }
   ],
   "source": [
    "visual([\"ron\",\"harry\",\"Hermione\", \"dumbledore\"], weights, word2idx)"
   ]
  },
  {
   "cell_type": "code",
   "execution_count": 66,
   "metadata": {},
   "outputs": [
    {
     "data": {
      "image/png": "[encoded data removed]",
      "text/plain": [
       "<Figure size 600x400 with 1 Axes>"
      ]
     },
     "metadata": {},
     "output_type": "display_data"
    }
   ],
   "source": [
    "visual([\"hate\", \"love\"], weights, word2idx, ylims=[-1, 4])"
   ]
  },
  {
   "cell_type": "code",
   "execution_count": 67,
   "metadata": {},
   "outputs": [
    {
     "data": {
      "image/png": "[encoded data removed]",
      "text/plain": [
       "<Figure size 600x400 with 1 Axes>"
      ]
     },
     "metadata": {},
     "output_type": "display_data"
    }
   ],
   "source": [
    "visual([\"big\", \"small\"], weights, word2idx, ylims=[-1, 2])"
   ]
  },
  {
   "cell_type": "code",
   "execution_count": 68,
   "metadata": {},
   "outputs": [
    {
     "data": {
      "image/png": "[encoded data removed]",
      "text/plain": [
       "<Figure size 600x400 with 1 Axes>"
      ]
     },
     "metadata": {},
     "output_type": "display_data"
    }
   ],
   "source": [
    "visual([\"love\", \"like\"], weights, word2idx, ylims=[-1, 2])"
   ]
  }
 ],
 "metadata": {
  "kernelspec": {
   "display_name": "Python 3",
   "language": "python",
   "name": "python3"
  },
  "language_info": {
   "codemirror_mode": {
    "name": "ipython",
    "version": 3
   },
   "file_extension": ".py",
   "mimetype": "text/x-python",
   "name": "python",
   "nbconvert_exporter": "python",
   "pygments_lexer": "ipython3",
   "version": "3.7.3"
  },
  "toc": {
   "base_numbering": 1,
   "nav_menu": {},
   "number_sections": true,
   "sideBar": true,
   "skip_h1_title": false,
   "title_cell": "Table of Contents",
   "title_sidebar": "Contents",
   "toc_cell": false,
   "toc_position": {},
   "toc_section_display": true,
   "toc_window_display": false
  },
  "varInspector": {
   "cols": {
    "lenName": 16,
    "lenType": 16,
    "lenVar": 40
   },
   "kernels_config": {
    "python": {
     "delete_cmd_postfix": "",
     "delete_cmd_prefix": "del ",
     "library": "var_list.py",
     "varRefreshCmd": "print(var_dic_list())"
    },
    "r": {
     "delete_cmd_postfix": ") ",
     "delete_cmd_prefix": "rm(",
     "library": "var_list.r",
     "varRefreshCmd": "cat(var_dic_list()) "
    }
   },
   "types_to_exclude": [
    "module",
    "function",
    "builtin_function_or_method",
    "instance",
    "_Feature"
   ],
   "window_display": false
  }
 },
 "nbformat": 4,
 "nbformat_minor": 4
}
