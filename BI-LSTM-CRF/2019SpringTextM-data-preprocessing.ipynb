{
 "cells": [
  {
   "cell_type": "code",
   "execution_count": 1,
   "metadata": {},
   "outputs": [],
   "source": [
    "import os\n",
    "import re"
   ]
  },
  {
   "cell_type": "code",
   "execution_count": 2,
   "metadata": {},
   "outputs": [],
   "source": [
    "data_directory_train = \"/home/huchang/trash/2019SpringTextM/outtrain/\"\n",
    "data_directory_test = \"/home/huchang/trash/2019SpringTextM/outtest/\""
   ]
  },
  {
   "cell_type": "code",
   "execution_count": 3,
   "metadata": {},
   "outputs": [],
   "source": [
    "trainset = {}\n",
    "files_count = 0\n",
    "tags = set()\n",
    "words = set()\n",
    "for file in os.listdir(data_directory_train):\n",
    "    with open(os.path.join(data_directory_train, file), 'r+') as fp:\n",
    "        data = [\"\"] + [re.sub(\"\\d+\\.?\\d*%?\", \"NUM\", line.strip().lower()) for line in fp.readlines()]\n",
    "        for line in data:\n",
    "            if line == \"\":\n",
    "                files_count += 1\n",
    "                trainset[files_count] = {\n",
    "                    \"word\": [],\n",
    "                    \"label\": []\n",
    "                }\n",
    "                continue\n",
    "            else:\n",
    "                item = line.split(\"\\t\")\n",
    "                trainset[files_count]['word'].append(item[0])\n",
    "                trainset[files_count]['label'].append(item[-1])\n",
    "                tags.add(item[-1])\n",
    "                words.add(item[0])\n",
    "                \n",
    "for file in os.listdir(data_directory_test):\n",
    "    with open(os.path.join(data_directory_test, file), 'r+') as fp:\n",
    "        data = [\"\"] + [re.sub(\"\\d+\\.?\\d*%?\", \"NUM\", line.strip().lower()) for line in fp.readlines()]\n",
    "        for line in data:\n",
    "            if line == \"\":\n",
    "                files_count += 1\n",
    "                trainset[files_count] = {\n",
    "                    \"word\": [],\n",
    "                    \"label\": []\n",
    "                }\n",
    "                continue\n",
    "            else:\n",
    "                item = line.split(\"\\t\")\n",
    "                trainset[files_count]['word'].append(item[0])\n",
    "                trainset[files_count]['label'].append(item[-1])\n",
    "                tags.add(item[-1])\n",
    "                words.add(item[0])"
   ]
  },
  {
   "cell_type": "code",
   "execution_count": 4,
   "metadata": {},
   "outputs": [
    {
     "data": {
      "text/plain": [
       "9334"
      ]
     },
     "execution_count": 4,
     "metadata": {},
     "output_type": "execute_result"
    }
   ],
   "source": [
    "len(words)"
   ]
  },
  {
   "cell_type": "code",
   "execution_count": 5,
   "metadata": {},
   "outputs": [],
   "source": [
    "words = list(words)"
   ]
  },
  {
   "cell_type": "code",
   "execution_count": 6,
   "metadata": {},
   "outputs": [],
   "source": [
    "tags = list(tags)"
   ]
  },
  {
   "cell_type": "code",
   "execution_count": 7,
   "metadata": {},
   "outputs": [],
   "source": [
    "word2idx = {\"<START>\": 0}\n",
    "idx2word = {0: \"<START>\"}"
   ]
  },
  {
   "cell_type": "code",
   "execution_count": 8,
   "metadata": {},
   "outputs": [],
   "source": [
    "for idx, word in enumerate(words):\n",
    "    word2idx[word] = idx + 1\n",
    "    idx2word[idx + 1] = word"
   ]
  },
  {
   "cell_type": "code",
   "execution_count": 9,
   "metadata": {},
   "outputs": [
    {
     "data": {
      "text/plain": [
       "9333"
      ]
     },
     "execution_count": 9,
     "metadata": {},
     "output_type": "execute_result"
    }
   ],
   "source": [
    "idx"
   ]
  },
  {
   "cell_type": "code",
   "execution_count": 10,
   "metadata": {},
   "outputs": [],
   "source": [
    "word2idx[\"<END>\"] = 9335\n",
    "idx2word[9335] = \"<END>\""
   ]
  },
  {
   "cell_type": "code",
   "execution_count": 40,
   "metadata": {},
   "outputs": [],
   "source": [
    "# word2idx"
   ]
  },
  {
   "cell_type": "code",
   "execution_count": 12,
   "metadata": {},
   "outputs": [],
   "source": [
    "trainset = {}\n",
    "files_count = 0\n",
    "tags = set()\n",
    "words = set()\n",
    "for file in os.listdir(data_directory_train):\n",
    "    with open(os.path.join(data_directory_train, file), 'r+') as fp:\n",
    "        data = [\"\"] + [re.sub(\"\\d+\\.?\\d*%?\", \"NUM\", line.strip().lower()) for line in fp.readlines()]\n",
    "        for line in data:\n",
    "            if line == \"\":\n",
    "                files_count += 1\n",
    "                trainset[files_count] = {\n",
    "                    \"word\": [],\n",
    "                    \"label\": []\n",
    "                }\n",
    "                continue\n",
    "            else:\n",
    "                item = line.split(\"\\t\")\n",
    "                trainset[files_count]['word'].append(item[0])\n",
    "                trainset[files_count]['label'].append(item[-1])\n",
    "                tags.add(item[-1])\n",
    "                words.add(item[0])\n",
    "                \n",
    "for file in os.listdir(data_directory_test):\n",
    "    with open(os.path.join(data_directory_test, file), 'r+') as fp:\n",
    "        data = [\"\"] + [re.sub(\"\\d+\\.?\\d*%?\", \"NUM\", line.strip().lower()) for line in fp.readlines()]\n",
    "        for line in data:\n",
    "            if line == \"\":\n",
    "                files_count += 1\n",
    "                trainset[files_count] = {\n",
    "                    \"word\": [],\n",
    "                    \"label\": []\n",
    "                }\n",
    "                continue\n",
    "            else:\n",
    "                item = line.split(\"\\t\")\n",
    "                trainset[files_count]['word'].append(item[0])\n",
    "                trainset[files_count]['label'].append(item[-1])\n",
    "                tags.add(item[-1])\n",
    "                words.add(item[0])"
   ]
  },
  {
   "cell_type": "code",
   "execution_count": 13,
   "metadata": {},
   "outputs": [],
   "source": [
    "tag2idx = {\"<START-TAG>\": 0}\n",
    "idx2tag = {0: \"<START-TAG>\"}"
   ]
  },
  {
   "cell_type": "code",
   "execution_count": 14,
   "metadata": {},
   "outputs": [],
   "source": [
    "for idx, tag in enumerate(tags):\n",
    "    tag2idx[tag] = idx + 1\n",
    "    idx2tag[idx + 1] = tag"
   ]
  },
  {
   "cell_type": "code",
   "execution_count": 15,
   "metadata": {},
   "outputs": [
    {
     "data": {
      "text/plain": [
       "16"
      ]
     },
     "execution_count": 15,
     "metadata": {},
     "output_type": "execute_result"
    }
   ],
   "source": [
    "idx"
   ]
  },
  {
   "cell_type": "code",
   "execution_count": 16,
   "metadata": {},
   "outputs": [],
   "source": [
    "tag2idx[\"<END-TAG>\"] = 18\n",
    "idx2tag[18] = \"<END-TAG>\""
   ]
  },
  {
   "cell_type": "code",
   "execution_count": 17,
   "metadata": {},
   "outputs": [],
   "source": [
    "trainset = {}\n",
    "files_count = 0\n",
    "for file in os.listdir(data_directory_train):\n",
    "    with open(os.path.join(data_directory_train, file), 'r+') as fp:\n",
    "        data = [\"\"] + [re.sub(\"\\d+\\.?\\d*%?\", \"NUM\", line.strip().lower()) for line in fp.readlines()]\n",
    "        for line in data:\n",
    "            if line == \"\":\n",
    "                files_count += 1\n",
    "                trainset[files_count] = {\n",
    "                    \"word\": [],\n",
    "                    \"label\": []\n",
    "                }\n",
    "                continue\n",
    "            else:\n",
    "                item = line.split(\"\\t\")\n",
    "                trainset[files_count]['word'].append(word2idx[item[0]])\n",
    "                trainset[files_count]['label'].append(tag2idx[item[-1]])\n",
    "                \n",
    "for file in os.listdir(data_directory_test):\n",
    "    with open(os.path.join(data_directory_test, file), 'r+') as fp:\n",
    "        data = [\"\"] + [re.sub(\"\\d+\\.?\\d*%?\", \"NUM\", line.strip().lower()) for line in fp.readlines()]\n",
    "        for line in data:\n",
    "            if line == \"\":\n",
    "                files_count += 1\n",
    "                trainset[files_count] = {\n",
    "                    \"word\": [],\n",
    "                    \"label\": []\n",
    "                }\n",
    "                continue\n",
    "            else:\n",
    "                item = line.split(\"\\t\")\n",
    "                trainset[files_count]['word'].append(word2idx[item[0]])\n",
    "                trainset[files_count]['label'].append(tag2idx[item[-1]])"
   ]
  },
  {
   "cell_type": "code",
   "execution_count": 41,
   "metadata": {},
   "outputs": [],
   "source": [
    "# trainset"
   ]
  },
  {
   "cell_type": "code",
   "execution_count": 19,
   "metadata": {},
   "outputs": [],
   "source": [
    "words_max = 0"
   ]
  },
  {
   "cell_type": "code",
   "execution_count": 21,
   "metadata": {},
   "outputs": [
    {
     "data": {
      "text/plain": [
       "2062"
      ]
     },
     "execution_count": 21,
     "metadata": {},
     "output_type": "execute_result"
    }
   ],
   "source": [
    "words_max"
   ]
  },
  {
   "cell_type": "code",
   "execution_count": 22,
   "metadata": {},
   "outputs": [],
   "source": [
    "use_set = []\n",
    "use_label = []"
   ]
  },
  {
   "cell_type": "code",
   "execution_count": 23,
   "metadata": {},
   "outputs": [],
   "source": [
    "for key, val in trainset.items():\n",
    "    val['word'].append(word2idx[\"<END>\"])\n",
    "    use_set.append((2065 - len(val['word'])) * [word2idx['<START>']] + val['word'])\n",
    "    val['label'].append(tag2idx[\"<END-TAG>\"])\n",
    "    use_label.append((2065 - len(val['label'])) * [tag2idx['<START-TAG>']] + val['label'])"
   ]
  },
  {
   "cell_type": "code",
   "execution_count": 24,
   "metadata": {},
   "outputs": [],
   "source": [
    "import sys"
   ]
  },
  {
   "cell_type": "code",
   "execution_count": 26,
   "metadata": {},
   "outputs": [
    {
     "data": {
      "text/plain": [
       "253632"
      ]
     },
     "execution_count": 26,
     "metadata": {},
     "output_type": "execute_result"
    }
   ],
   "source": [
    "sys.getsizeof(use_set)"
   ]
  },
  {
   "cell_type": "code",
   "execution_count": 27,
   "metadata": {},
   "outputs": [],
   "source": [
    "import numpy as np"
   ]
  },
  {
   "cell_type": "code",
   "execution_count": 28,
   "metadata": {},
   "outputs": [],
   "source": [
    "dataset = np.array(use_set)"
   ]
  },
  {
   "cell_type": "code",
   "execution_count": 29,
   "metadata": {},
   "outputs": [],
   "source": [
    "label = np.array(use_label)"
   ]
  },
  {
   "cell_type": "code",
   "execution_count": 30,
   "metadata": {},
   "outputs": [
    {
     "data": {
      "text/plain": [
       "array([[ 0,  0,  0, ..., 16, 16, 18],\n",
       "       [ 0,  0,  0, ..., 14, 16, 18],\n",
       "       [ 0,  0,  0, ..., 15, 16, 18],\n",
       "       ...,\n",
       "       [ 0,  0,  0, ..., 16, 16, 18],\n",
       "       [ 0,  0,  0, ..., 16, 16, 18],\n",
       "       [ 0,  0,  0, ..., 16, 16, 18]])"
      ]
     },
     "execution_count": 30,
     "metadata": {},
     "output_type": "execute_result"
    }
   ],
   "source": [
    "label"
   ]
  },
  {
   "cell_type": "code",
   "execution_count": 32,
   "metadata": {},
   "outputs": [],
   "source": [
    "data = {}\n",
    "data[\"dataset\"] = dataset"
   ]
  },
  {
   "cell_type": "code",
   "execution_count": 33,
   "metadata": {},
   "outputs": [],
   "source": [
    "data[\"label\"] = dataset"
   ]
  },
  {
   "cell_type": "code",
   "execution_count": 34,
   "metadata": {},
   "outputs": [],
   "source": [
    "data['word2idx'] = word2idx"
   ]
  },
  {
   "cell_type": "code",
   "execution_count": 35,
   "metadata": {},
   "outputs": [],
   "source": [
    "data['idx2word'] = idx2word"
   ]
  },
  {
   "cell_type": "code",
   "execution_count": 42,
   "metadata": {},
   "outputs": [],
   "source": [
    "data['tag2idx'] = tag2idx"
   ]
  },
  {
   "cell_type": "code",
   "execution_count": null,
   "metadata": {},
   "outputs": [],
   "source": []
  }
 ],
 "metadata": {
  "kernelspec": {
   "display_name": "Python 3",
   "language": "python",
   "name": "python3"
  },
  "language_info": {
   "codemirror_mode": {
    "name": "ipython",
    "version": 3
   },
   "file_extension": ".py",
   "mimetype": "text/x-python",
   "name": "python",
   "nbconvert_exporter": "python",
   "pygments_lexer": "ipython3",
   "version": "3.7.3"
  },
  "toc": {
   "base_numbering": 1,
   "nav_menu": {},
   "number_sections": true,
   "sideBar": true,
   "skip_h1_title": false,
   "title_cell": "Table of Contents",
   "title_sidebar": "Contents",
   "toc_cell": false,
   "toc_position": {},
   "toc_section_display": true,
   "toc_window_display": false
  },
  "varInspector": {
   "cols": {
    "lenName": 16,
    "lenType": 16,
    "lenVar": 40
   },
   "kernels_config": {
    "python": {
     "delete_cmd_postfix": "",
     "delete_cmd_prefix": "del ",
     "library": "var_list.py",
     "varRefreshCmd": "print(var_dic_list())"
    },
    "r": {
     "delete_cmd_postfix": ") ",
     "delete_cmd_prefix": "rm(",
     "library": "var_list.r",
     "varRefreshCmd": "cat(var_dic_list()) "
    }
   },
   "types_to_exclude": [
    "module",
    "function",
    "builtin_function_or_method",
    "instance",
    "_Feature"
   ],
   "window_display": false
  }
 },
 "nbformat": 4,
 "nbformat_minor": 4
}
